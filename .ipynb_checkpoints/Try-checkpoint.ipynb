{
 "cells": [
  {
   "cell_type": "code",
   "execution_count": 1,
   "metadata": {},
   "outputs": [],
   "source": [
    "import pandas as pd\n",
    "import math as mth\n",
    "from functools import reduce"
   ]
  },
  {
   "cell_type": "code",
   "execution_count": 3,
   "metadata": {},
   "outputs": [],
   "source": [
    "df = pd.read_csv('merge.csv',delimiter = ',',names=['Data','Label']);\n",
    "first_row = df.iloc[1:,0]\n",
    "# print(first_row)\n",
    "second_row  = df.iloc[1:,1]"
   ]
  },
  {
   "cell_type": "code",
   "execution_count": 4,
   "metadata": {},
   "outputs": [],
   "source": [
    "data_with_split = []\n",
    "each_docs = []\n",
    "stop_words_split_final=[]\n",
    "def SPLITDOCUMENT():\n",
    "\tfor data in first_row:\n",
    "\t\teach_docs = data.split()\n",
    "\t\tdata_with_split.append(each_docs)\n",
    "\treturn data_with_split"
   ]
  },
  {
   "cell_type": "code",
   "execution_count": 5,
   "metadata": {},
   "outputs": [
    {
     "name": "stdout",
     "output_type": "stream",
     "text": [
      "[['\\xe0\\xa4\\xae\\xe0\\xa5\\x87\\xe0\\xa4\\xb0\\xe0\\xa5\\x8b', '\\xe0\\xa4\\xae\\xe0\\xa5\\x8b\\xe0\\xa4\\xac\\xe0\\xa4\\xbe\\xe0\\xa4\\x88\\xe0\\xa4\\xb2', '\\xe0\\xa4\\xb2\\xe0\\xa5\\x87', '\\xe0\\xa4\\x95\\xe0\\xa4\\xbe\\xe0\\xa4\\xae', '\\xe0\\xa4\\x97\\xe0\\xa4\\xb0\\xe0\\xa5\\x87\\xe0\\xa4\\x95\\xe0\\xa5\\x8b', '\\xe0\\xa4\\x9b\\xe0\\xa5\\x88\\xe0\\xa4\\xa8'], ['\\xe0\\xa4\\x95\\xe0\\xa5\\x87', '\\xe0\\xa4\\xa4\\xe0\\xa4\\xaa\\xe0\\xa4\\xbe\\xe0\\xa4\\x88\\xe0\\xa4\\x82', 'DFLP', 'DFLP', '\\xe0\\xa4\\xac\\xe0\\xa4\\xbe\\xe0\\xa4\\xb0\\xe0\\xa5\\x87\\xe0\\xa4\\xae\\xe0\\xa4\\xbe', '\\xe0\\xa4\\x85\\xe0\\xa4\\xb2\\xe0\\xa4\\xbf\\xe0\\xa4\\x95\\xe0\\xa4\\xa4\\xe0\\xa4\\xbf', '\\xe0\\xa4\\xac\\xe0\\xa4\\xa8\\xe0\\xa5\\x8d\\xe0\\xa4\\xa8', '\\xe0\\xa4\\xb8\\xe0\\xa4\\x95\\xe0\\xa5\\x8d\\xe0\\xa4\\xa8\\xe0\\xa5\\x81\\xe0\\xa4\\xb9\\xe0\\xa5\\x81\\xe0\\xa4\\xa8\\xe0\\xa5\\x8d\\xe0\\xa4\\x9b'], ['\\xe0\\xa4\\xaf\\xe0\\xa5\\x8b', '\\xe0\\xa4\\xb8\\xe0\\xa4\\xbe\\xe0\\xa4\\xae\\xe0\\xa4\\xbe\\xe0\\xa4\\xa8', '\\xe0\\xa4\\xa8\\xe0\\xa5\\x87\\xe0\\xa4\\xaa\\xe0\\xa4\\xbe\\xe0\\xa4\\xb2\\xe0\\xa4\\xae\\xe0\\xa4\\xbe', '\\xe0\\xa4\\xad\\xe0\\xa4\\xb0\\xe0\\xa4\\xbf', '\\xe0\\xa4\\x89\\xe0\\xa4\\xaa\\xe0\\xa4\\xb2\\xe0\\xa4\\xac\\xe0\\xa5\\x8d\\xe0\\xa4\\xa7', '\\xe0\\xa4\\xb9\\xe0\\xa5\\x81\\xe0\\xa4\\xa8\\xe0\\xa5\\x81\\xe0\\xa4\\xaa\\xe0\\xa4\\xb0\\xe0\\xa5\\x8d\\xe0\\xa4\\x9b'], ['\\xe0\\xa4\\xaf\\xe0\\xa4\\xb8\\xe0\\xa4\\x95\\xe0\\xa5\\x8b', '\\xe0\\xa4\\xae\\xe0\\xa5\\x82\\xe0\\xa4\\xb2\\xe0\\xa5\\x8d\\xe0\\xa4\\xaf', '\\xe0\\xa4\\x95\\xe0\\xa4\\xa4\\xe0\\xa4\\xbf'], ['\\xe0\\xa4\\xae\\xe0\\xa5\\x82\\xe0\\xa4\\xb2\\xe0\\xa5\\x8d\\xe0\\xa4\\xaf', '\\xe0\\xa4\\x95\\xe0\\xa5\\x83\\xe0\\xa4\\xaa\\xe0\\xa4\\xaf\\xe0\\xa4\\xbe'], ['\\xe0\\xa4\\xac\\xe0\\xa5\\x8d\\xe0\\xa4\\xb0\\xe0\\xa4\\xbf\\xe0\\xa4\\x9c', '\\xe0\\xa4\\xae\\xe0\\xa5\\x87\\xe0\\xa4\\x95\\xe0\\xa4\\x85\\xe0\\xa4\\xaa', '\\xe0\\xa4\\x97\\xe0\\xa4\\xb0\\xe0\\xa5\\x8d\\xe0\\xa4\\xa8\\xe0\\xa4\\x95\\xe0\\xa5\\x8b', '\\xe0\\xa4\\xb2\\xe0\\xa4\\xbe\\xe0\\xa4\\x97\\xe0\\xa4\\xbf', '\\xe0\\xa4\\xb8\\xe0\\xa4\\xac\\xe0\\xa5\\x88', '\\xe0\\xa4\\xb8\\xe0\\xa4\\xbe\\xe0\\xa4\\xae\\xe0\\xa4\\xbe\\xe0\\xa4\\xa8', '\\xe0\\xa4\\xaa\\xe0\\xa4\\xbe\\xe0\\xa4\\x87\\xe0\\xa4\\xa8\\xe0\\xa5\\x8d\\xe0\\xa4\\x9b'], ['\\xe0\\xa4\\xaa\\xe0\\xa5\\x80\\xe0\\xa4\\xaa\\xe0\\xa5\\x80', '\\xe0\\xa4\\xae\\xe0\\xa4\\xb2\\xe0\\xa4\\xbe\\xe0\\xa4\\x88', '\\xe0\\xa4\\xaf\\xe0\\xa5\\x8b', '\\xe0\\xa4\\x9a\\xe0\\xa4\\xbe\\xe0\\xa4\\xb9\\xe0\\xa4\\xbf\\xe0\\xa4\\xa8\\xe0\\xa5\\x8d\\xe0\\xa4\\x9b,', '\\xe0\\xa4\\xae', '\\xe0\\xa4\\xaf\\xe0\\xa5\\x8b', '\\xe0\\xa4\\x95\\xe0\\xa4\\xb8\\xe0\\xa4\\xb0\\xe0\\xa5\\x80', '\\xe0\\xa4\\xaa\\xe0\\xa5\\x8d\\xe0\\xa4\\xb0\\xe0\\xa4\\xbe\\xe0\\xa4\\xaa\\xe0\\xa5\\x8d\\xe0\\xa4\\xa4', '\\xe0\\xa4\\x97\\xe0\\xa4\\xb0\\xe0\\xa5\\x8d\\xe0\\xa4\\xa8', '\\xe0\\xa4\\xb8\\xe0\\xa4\\x95\\xe0\\xa5\\x8d\\xe0\\xa4\\x9b\\xe0\\xa5\\x81?'], ['\\xe0\\xa4\\xaf\\xe0\\xa5\\x8b', '\\xe0\\xa4\\x85\\xe0\\xa4\\xab\\xe0\\xa4\\xb0', '\\xe0\\xa4\\x95\\xe0\\xa4\\xa4\\xe0\\xa4\\xbf', '\\xe0\\xa4\\xa6\\xe0\\xa4\\xbf\\xe0\\xa4\\xa8\\xe0\\xa4\\xb8\\xe0\\xa4\\xae\\xe0\\xa5\\x8d\\xe0\\xa4\\xae', '\\xe0\\xa4\\xb9\\xe0\\xa5\\x81\\xe0\\xa4\\xa8\\xe0\\xa5\\x87\\xe0\\xa4\\x9b'], ['\\xe0\\xa4\\x95\\xe0\\xa4\\xa4\\xe0\\xa4\\xbf', '\\xe0\\xa4\\xb9\\xe0\\xa5\\x8b', '\\xe0\\xa4\\xae\\xe0\\xa4\\xbf\\xe0\\xa4\\xb2\\xe0\\xa4\\xbe\\xe0\\xa4\\x8f\\xe0\\xa4\\xb0']]\n"
     ]
    }
   ],
   "source": [
    "word_arrays = []\n",
    "word_arrays = SPLITDOCUMENT() \n",
    "print(word_arrays)\n",
    "length_of_docs = len(word_arrays)\n",
    "def individual_words():\n",
    "\tmy_set = set.union(*map(set,word_arrays))# seperate each individual words from data to make matrix\n",
    "\treturn my_set\n",
    "\n",
    "def set_to_list():\n",
    "\tmy_set_list = individual_words()\n",
    "\tconvert_into_list = list(my_set_list)\n",
    "\treturn convert_into_list\n",
    "individual_word_array = set_to_list()\n",
    "# print(individual_word)"
   ]
  },
  {
   "cell_type": "code",
   "execution_count": 8,
   "metadata": {},
   "outputs": [
    {
     "ename": "NameError",
     "evalue": "name 'my_set' is not defined",
     "output_type": "error",
     "traceback": [
      "\u001b[0;31m---------------------------------------------------------------------------\u001b[0m",
      "\u001b[0;31mNameError\u001b[0m                                 Traceback (most recent call last)",
      "\u001b[0;32m<ipython-input-8-43f02993325e>\u001b[0m in \u001b[0;36m<module>\u001b[0;34m()\u001b[0m\n\u001b[1;32m     13\u001b[0m         \u001b[0;32mreturn\u001b[0m \u001b[0mword_dict\u001b[0m\u001b[0;34m\u001b[0m\u001b[0m\n\u001b[1;32m     14\u001b[0m \u001b[0;34m\u001b[0m\u001b[0m\n\u001b[0;32m---> 15\u001b[0;31m \u001b[0mmy_set\u001b[0m\u001b[0;34m\u001b[0m\u001b[0m\n\u001b[0m",
      "\u001b[0;31mNameError\u001b[0m: name 'my_set' is not defined"
     ]
    }
   ],
   "source": [
    "def count_occurence_of_word_vocab():\n",
    "\tmy_set = individual_words()\n",
    "\tdoc ={}\n",
    "\tword_dict  = {}\n",
    "\tfor i in range(len(word_arrays)):\n",
    "\t\tfor word in word_arrays[i]:\n",
    "\t\t\tword_dict = dict.fromkeys(my_set,0)\n",
    "\n",
    "\tfor count_word_value in word_arrays:\n",
    "\t\tfor word in count_word_value:\n",
    "\t\t\tif word in word_dict:\n",
    "\t\t\t\tword_dict[word] += 1\n",
    "\treturn word_dict"
   ]
  },
  {
   "cell_type": "code",
   "execution_count": null,
   "metadata": {},
   "outputs": [],
   "source": []
  }
 ],
 "metadata": {
  "kernelspec": {
   "display_name": "Python 3",
   "language": "python",
   "name": "python3"
  },
  "language_info": {
   "codemirror_mode": {
    "name": "ipython",
    "version": 2
   },
   "file_extension": ".py",
   "mimetype": "text/x-python",
   "name": "python",
   "nbconvert_exporter": "python",
   "pygments_lexer": "ipython2",
   "version": "2.7.15"
  }
 },
 "nbformat": 4,
 "nbformat_minor": 2
}
