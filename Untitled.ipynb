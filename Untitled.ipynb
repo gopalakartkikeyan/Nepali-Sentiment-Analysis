{
 "cells": [
  {
   "cell_type": "code",
   "execution_count": 3,
   "metadata": {},
   "outputs": [
    {
     "ename": "IndentationError",
     "evalue": "unindent does not match any outer indentation level (<ipython-input-3-a83b3e146ea1>, line 34)",
     "output_type": "error",
     "traceback": [
      "\u001b[0;36m  File \u001b[0;32m\"<ipython-input-3-a83b3e146ea1>\"\u001b[0;36m, line \u001b[0;32m34\u001b[0m\n\u001b[0;31m    my_set\u001b[0m\n\u001b[0m          ^\u001b[0m\n\u001b[0;31mIndentationError\u001b[0m\u001b[0;31m:\u001b[0m unindent does not match any outer indentation level\n"
     ]
    }
   ],
   "source": [
    "import pandas as pd\n",
    "import math as mth\n",
    "from functools import reduce\n",
    "\n",
    "df = pd.read_csv('merge.csv',delimiter = ',',names=['Data','Label']);\n",
    "first_row = df.ix[1:,0]\n",
    "# print(first_row)\n",
    "second_row  = df.ix[1:,1]\n",
    "\n",
    "data_with_split = []\n",
    "each_docs = []\n",
    "stop_words_split_final=[]\n",
    "def split_doc():\n",
    "\tfor data in first_row:\n",
    "\t\teach_docs = data.split()\n",
    "\t\tdata_with_split.append(each_docs)\n",
    "\treturn data_with_split # it returns arr of each docs with spleted words\n",
    "word_lists = []\n",
    "word_lists = split_doc() \n",
    "print(word_lists)\n",
    "length_of_docs = len(word_lists)\n",
    "def individual_words():\n",
    "\tmy_set = set.union(*map(set,word_lists))# seperate each individual words from data to make matrix\n",
    "\treturn my_set\n",
    "\n",
    "def set_to_list():\n",
    "\tmy_set_list = individual_words()\n",
    "\tconvert_into_list = list(my_set_list)\n",
    "\treturn convert_into_list\n",
    "individual_word_list = set_to_list()\n",
    "# print(individual_word)\n",
    "def count_occurence_of_word_vocab():\n",
    "\tmy_set = individual_words()\n",
    "    my_set\n",
    "\tdoc ={}\n",
    "\tword_dict  = {}\n",
    "\tfor i in range(len(word_lists)):\n",
    "\t\tfor word in word_lists[i]:\n",
    "\t\t\tword_dict = dict.fromkeys(my_set,0)\n",
    "\n",
    "\tfor count_word_value in word_lists:\n",
    "\t\tfor word in count_word_value:\n",
    "\t\t\tif word in word_dict:\n",
    "\t\t\t\tword_dict[word] += 1\n",
    "\treturn word_dict\n",
    "# frequency_of_words = count_occurence_of_word_vocab()\n",
    "\n",
    "def vectorizer_docs():\n",
    "\tvectorizer_docs = []\n",
    "\tmatrix_doc = []\n",
    "\tfor each_docs in word_lists:\n",
    "\t\tfor word in individual_word_list:\n",
    "\t\t\tif word in each_docs:\n",
    "\t\t\t\tvectorizer_docs.append(1)\n",
    "\t\t\telse:\n",
    "\t\t\t\tvectorizer_docs.append(0)\n",
    "\t\tmatrix_doc.append(vectorizer_docs)\n",
    "\tprint(matrix_doc)\n",
    "\n",
    "vectorizer_docs()"
   ]
  },
  {
   "cell_type": "code",
   "execution_count": null,
   "metadata": {},
   "outputs": [],
   "source": []
  },
  {
   "cell_type": "code",
   "execution_count": null,
   "metadata": {},
   "outputs": [],
   "source": []
  }
 ],
 "metadata": {
  "kernelspec": {
   "display_name": "Python 3",
   "language": "python",
   "name": "python3"
  },
  "language_info": {
   "codemirror_mode": {
    "name": "ipython",
    "version": 2
   },
   "file_extension": ".py",
   "mimetype": "text/x-python",
   "name": "python",
   "nbconvert_exporter": "python",
   "pygments_lexer": "ipython2",
   "version": "2.7.15"
  }
 },
 "nbformat": 4,
 "nbformat_minor": 2
}
